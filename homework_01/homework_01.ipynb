{
  "cells": [
    {
      "cell_type": "markdown",
      "id": "8955a739",
      "metadata": {
        "id": "8955a739"
      },
      "source": [
        "# Домашнее задание: Базовые типы данных\n",
        "\n"
      ]
    },
    {
      "cell_type": "markdown",
      "id": "d4e67b86",
      "metadata": {
        "id": "d4e67b86"
      },
      "source": [
        "## Задание 1: Зеркальное отражение цифр\n",
        "\n",
        "Пользователь вводит пятизначное число. Программа должна зеркально отразить три центральные цифры. Первая и последняя остаются на местах.\n",
        "\n",
        "<br>\n",
        "\n",
        "**Примеры:**\n",
        "* `23456 -> 25436`\n",
        "* `30789 -> 38709`"
      ]
    },
    {
      "cell_type": "code",
      "execution_count": null,
      "id": "5a4d665d",
      "metadata": {
        "id": "5a4d665d",
        "outputId": "cb695d4b-54aa-4cf5-f30f-f5d06fbc9f73",
        "colab": {
          "base_uri": "https://localhost:8080/"
        }
      },
      "outputs": [
        {
          "output_type": "stream",
          "name": "stdout",
          "text": [
            "25436\n"
          ]
        }
      ],
      "source": [
        "message = \"23456\"\n",
        "first_symbol = message[0]\n",
        "\n",
        "last_symbol = message[-1]\n",
        "\n",
        "# Разворачиваем строку\n",
        "reversed_message = message[3:0:-1]\n",
        "\n",
        "print(f'{first_symbol}{reversed_message}{last_symbol}')\n",
        "\n",
        "\n"
      ]
    },
    {
      "cell_type": "markdown",
      "id": "00b9578b",
      "metadata": {
        "id": "00b9578b"
      },
      "source": [
        "## Задание 2: Подсчет выходных до отпуска\n",
        "\n",
        "Пользователь вводит сколько дней осталось до ближайшего отпуска. Программа должна вывести количество выходных дней до отпуска, если учесть, что выходные это суббота и воскресенье, сегодня понедельник и праздники мы не учитываем.  \n",
        "\n",
        "<br>\n",
        "\n",
        "**Примеры:**\n",
        "* `4  -> 0`\n",
        "* `6  -> 1`\n",
        "* `14 -> 4`"
      ]
    },
    {
      "cell_type": "code",
      "execution_count": null,
      "id": "07154103",
      "metadata": {
        "id": "07154103",
        "outputId": "1d6b3c1f-fd89-4ac4-8a9b-9e2779aae520",
        "colab": {
          "base_uri": "https://localhost:8080/"
        }
      },
      "outputs": [
        {
          "output_type": "stream",
          "name": "stdout",
          "text": [
            "0\n"
          ]
        }
      ],
      "source": [
        "days_till_vacation = 4\n",
        "number_of_weeks = days_till_vacation // 7\n",
        "reminder_of_days = days_till_vacation % 7\n",
        "number_of_weekends_days = number_of_weeks * 2\n",
        "if reminder_of_days == 6:\n",
        "    number_of_weekends_days += 1\n",
        "print(number_of_weekends_days)"
      ]
    },
    {
      "cell_type": "markdown",
      "id": "cdde282c",
      "metadata": {
        "id": "cdde282c"
      },
      "source": [
        "## Задание 3: Плитка шоколада\n",
        "\n",
        "Пользователь вводит длину и ширину плитки шоколада, а также размер куска, который хочет отломить. Программа должна вычислить - можно ли совершить подобный разлом или нет, если учесть, что ломать можно только по прямой.\n",
        "\n",
        "<br>\n",
        "\n",
        "**Примеры:**\n",
        "* `3, 4, 6  -> True`\n",
        "* `5, 7, 8  -> False`\n",
        "* `4, 5, 12 -> True`"
      ]
    },
    {
      "cell_type": "code",
      "execution_count": null,
      "id": "70f3324c",
      "metadata": {
        "id": "70f3324c",
        "colab": {
          "base_uri": "https://localhost:8080/"
        },
        "outputId": "10d734ea-96da-4bb7-9a5c-536dc77965db"
      },
      "outputs": [
        {
          "output_type": "stream",
          "name": "stdout",
          "text": [
            "Введите ширину,длину,размер куска :   3 4 6\n",
            "It is possible to break off\n"
          ]
        }
      ],
      "source": [
        "raw_input = input(\"Введите ширину,длину,размер куска :   \")\n",
        "raw_input_list = raw_input.split(' ')\n",
        "width = int(raw_input_list[0])\n",
        "length = int(raw_input_list[1])\n",
        "desired_pieces = int(raw_input_list[2])\n",
        "\n",
        "chocolate_square = width * length\n",
        "if chocolate_square >= desired_pieces:\n",
        "    if (desired_pieces % width == 0) or (desired_pieces % length == 0):\n",
        "        print(\"It is possible to break off\")\n",
        "    else:\n",
        "        print(\"It is not possible to break off\")\n",
        "else:\n",
        "    print(\"Your chocolate square is too small\")"
      ]
    },
    {
      "cell_type": "markdown",
      "id": "6470efc1",
      "metadata": {
        "id": "6470efc1"
      },
      "source": [
        "## Задание 4: Римские числа\n",
        "\n",
        "Пользователь вводит целое положительное число, программа должна вернуть строку в виде римского числа.\n",
        "\n",
        "<br>\n",
        "\n",
        "**Примеры:**\n",
        "* `3   -> III`\n",
        "* `15  -> XV`\n",
        "* `234 -> CCXXXIV`"
      ]
    },
    {
      "cell_type": "code",
      "execution_count": 1,
      "id": "8686127c",
      "metadata": {
        "id": "8686127c",
        "outputId": "8817e316-6971-4a22-87aa-f34ff06405b9",
        "colab": {
          "base_uri": "https://localhost:8080/"
        }
      },
      "outputs": [
        {
          "output_type": "stream",
          "name": "stdout",
          "text": [
            "CMXCIX\n"
          ]
        }
      ],
      "source": [
        "units_symbols = {0: '', 1: 'I', 2: 'II', 3: 'III', 4: 'IV', 5: 'V', 6: 'VI', 7: 'VII', 8: 'VIII', 9: 'IX'}\n",
        "tens_symbols = {0: '', 1: 'X', 2: 'XX', 3: 'XXX', 4: 'XL', 5: 'L', 6: 'LX', 7: 'LXX', 8: 'LXXX', 9: 'XC'}\n",
        "hundreds_symbols = {0: '', 1: 'C', 2: 'CC', 3: 'CCC', 4: 'CD', 5: 'D', 6: 'DC', 7: 'DCC', 8: 'DCCC', 9: 'CM'}\n",
        "thousands_symbols = {0: '', 1: 'M', 2: 'MM', 3: 'MMM', 4: 'MV̄', 5: 'V̄', 6: 'V̄M', 7: 'V̄MM', 8: 'V̄MMM', 9: 'MX̄'}\n",
        "\n",
        "x = 999\n",
        "str(x)\n",
        "buffer_list = []\n",
        "for position,symbol in list(enumerate(str(x)[::-1])):\n",
        "    if position == 0:\n",
        "        buffer_list.append(units_symbols[int(symbol)])\n",
        "    elif position == 1:\n",
        "        buffer_list.append(tens_symbols[int(symbol)])\n",
        "    elif position == 2:\n",
        "        buffer_list.append(hundreds_symbols[int(symbol)])\n",
        "    elif position == 3:\n",
        "        buffer_list.append(thousands_symbols[int(symbol)])\n",
        "    else:\n",
        "        print(\"Неправильно введено число. Больше 9999\")\n",
        "buffer_list.reverse()\n",
        "print(''.join(buffer_list))"
      ]
    },
    {
      "cell_type": "markdown",
      "id": "ca6a4c0a",
      "metadata": {
        "id": "ca6a4c0a"
      },
      "source": [
        "## Задание 5: Проверка на вещественное число\n",
        "\n",
        "Пользователь вводит данные, проверить - являются ли они положительным вещественным числом. Не использовать встроенные функции для проверки, только методы данных и конструкцию IF. (Дополнительное задание, по желанию - проверка на отрицательные вещественные числа)\n",
        "\n",
        "<br>\n",
        "\n",
        "**Примеры:**\n",
        "* `5.6  -> True`\n",
        "* `.78  -> True`\n",
        "* `.67. -> False`\n",
        "* `5    -> True`"
      ]
    },
    {
      "cell_type": "code",
      "execution_count": null,
      "id": "74e39179",
      "metadata": {
        "id": "74e39179"
      },
      "outputs": [],
      "source": [
        "# ВАШ КОД ЗДЕСЬ"
      ]
    }
  ],
  "metadata": {
    "kernelspec": {
      "display_name": ".venv (3.11.12)",
      "language": "python",
      "name": "python3"
    },
    "language_info": {
      "name": "python",
      "version": "3.11.12"
    },
    "colab": {
      "provenance": []
    }
  },
  "nbformat": 4,
  "nbformat_minor": 5
}