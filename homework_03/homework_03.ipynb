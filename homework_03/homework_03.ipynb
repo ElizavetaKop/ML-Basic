{
  "cells": [
    {
      "cell_type": "markdown",
      "id": "e2450ffa",
      "metadata": {
        "id": "e2450ffa"
      },
      "source": [
        "# Домашнее задание: Функции"
      ]
    },
    {
      "cell_type": "markdown",
      "id": "8d062500",
      "metadata": {
        "id": "8d062500"
      },
      "source": [
        "## Задание 1: Конвертер регистров\n",
        "\n",
        "Написать функцию, которая будет переводить snake_case в PascalCase и наоборот.\n",
        "\n",
        "Функция должна сама определять - какой формат ей передали. Можно добавить ключевой аргумент, который будет принудительно возвращать один из форматов.\n",
        "\n",
        "<br>\n",
        "\n",
        "**Примеры:**\n",
        "* `otus_course     -> OtusCourse`\n",
        "* `PythonIsTheBest -> python_is_the_best`\n",
        "\n"
      ]
    },
    {
      "cell_type": "code",
      "execution_count": null,
      "id": "ec0075f5",
      "metadata": {
        "id": "ec0075f5",
        "outputId": "c4516cc0-7a98-4f68-c3a1-42eb0fd4972e",
        "colab": {
          "base_uri": "https://localhost:8080/"
        }
      },
      "outputs": [
        {
          "output_type": "stream",
          "name": "stdout",
          "text": [
            "OtusCourse\n",
            "python_is_the_best\n"
          ]
        }
      ],
      "source": [
        "def convert_case(text, to_pascal=None):\n",
        "    is_snake = '_' in text and text.islower()\n",
        "    is_pascal = text[0].isupper() and '_' not in text\n",
        "\n",
        "    if to_pascal is not None:\n",
        "        target_pascal = to_pascal\n",
        "    else:\n",
        "        if is_snake:\n",
        "            target_pascal = True\n",
        "        elif is_pascal:\n",
        "            target_pascal = False\n",
        "        else:\n",
        "            raise ValueError(\"ОШИБКА\")\n",
        "\n",
        "    if target_pascal:\n",
        "        # Конвертация из snake_case в PascalCase\n",
        "        parts = text.split('_')\n",
        "        return ''.join(part.capitalize() for part in parts)\n",
        "    else:\n",
        "        # Конвертация из PascalCase в snake_case\n",
        "        result = []\n",
        "        for char in text:\n",
        "            if char.isupper():\n",
        "                if result and result[-1] != '_':\n",
        "                    result.append('_')\n",
        "                result.append(char.lower())\n",
        "            else:\n",
        "                result.append(char)\n",
        "        return ''.join(result)\n",
        "\n",
        "print(convert_case(\"otus_course\"))  # OtusCourse\n",
        "print(convert_case(\"PythonIsTheBest\"))  # python_is_the_best\n"
      ]
    },
    {
      "cell_type": "markdown",
      "id": "b8253fb9",
      "metadata": {
        "id": "b8253fb9"
      },
      "source": [
        "## Задание 2: Проверка валидности даты\n",
        "\n",
        "Написать функцию проверяющую валидность введенной даты.\n",
        "\n",
        "<br>\n",
        "\n",
        "**Примеры:**\n",
        "* `29.02.2000 -> True`\n",
        "* `29.02.2001 -> False`\n",
        "* `31.04.1962 -> False`\n",
        "\n"
      ]
    },
    {
      "cell_type": "code",
      "execution_count": null,
      "id": "e7f4e9c8",
      "metadata": {
        "id": "e7f4e9c8",
        "outputId": "7a19be8e-f6b3-4311-8fd1-166df6b91468",
        "colab": {
          "base_uri": "https://localhost:8080/"
        }
      },
      "outputs": [
        {
          "output_type": "stream",
          "name": "stdout",
          "text": [
            "True\n",
            "False\n",
            "False\n"
          ]
        }
      ],
      "source": [
        "from datetime import datetime\n",
        "\n",
        "def is_valid_date(date_str):\n",
        "    try:\n",
        "        date_obj = datetime.strptime(date_str, '%d.%m.%Y')\n",
        "        return True\n",
        "    except ValueError:\n",
        "        return False\n",
        "\n",
        "# Примеры использования\n",
        "print(is_valid_date(\"29.02.2000\"))  # True (високосный год)\n",
        "print(is_valid_date(\"29.02.2001\"))  # False (не високосный год)\n",
        "print(is_valid_date(\"31.04.1962\"))  # False (в апреле 30 дней)"
      ]
    },
    {
      "cell_type": "markdown",
      "id": "2d77053e",
      "metadata": {
        "id": "2d77053e"
      },
      "source": [
        "## Задание 3: Проверка на простое число\n",
        "\n",
        "Функция проверки на простое число. Простые числа – это такие числа, которые делятся на себя и на единицу.\n",
        "\n",
        "<br>\n",
        "\n",
        "**Примеры:**\n",
        "* `17 -> True`\n",
        "* `20 -> False`\n",
        "* `23 -> True`"
      ]
    },
    {
      "cell_type": "code",
      "execution_count": null,
      "id": "c20728f6",
      "metadata": {
        "id": "c20728f6",
        "outputId": "409f0633-6491-4ee0-f021-91efacf8a74f",
        "colab": {
          "base_uri": "https://localhost:8080/"
        }
      },
      "outputs": [
        {
          "output_type": "stream",
          "name": "stdout",
          "text": [
            "True\n",
            "False\n",
            "True\n"
          ]
        }
      ],
      "source": [
        "def is_prime(n):\n",
        "    if n <= 1:\n",
        "        return False\n",
        "    if n == 2:\n",
        "        return True\n",
        "    if n % 2 == 0:\n",
        "        return False\n",
        "\n",
        "    for i in range(3, int(n ** 0.5) + 1, 2):\n",
        "        if n % i == 0:\n",
        "            return False\n",
        "    return True\n",
        "\n",
        "print(is_prime(17))  # True\n",
        "print(is_prime(20))  # False\n",
        "print(is_prime(23))  # True"
      ]
    },
    {
      "cell_type": "markdown",
      "id": "29703efe",
      "metadata": {
        "id": "29703efe"
      },
      "source": [
        "## Задание 4: Учет пользователей\n",
        "\n",
        "Пользователь в бесконечном цикле вводит данные пользователей: имя, затем фамилию, возраст и ID. Ввод продолжается до тех пор, пока не будет введено пустое поле.\n",
        "\n",
        "Пользователи заносятся в словарь, где ключ это ID пользователя, а остальные данные записываются в виде кортежа.\n",
        "\n",
        "**Программа должна проверять:**\n",
        "* имя и фамилия состоят только из символов и начинаются с большой буквы - если не с большой, то заменяет букву на большую;\n",
        "* возраст должен быть числом от 18 до 60;\n",
        "* ID - целое число, дополненное до 8 знаков незначащими нулями, ID должен быть уникальным.\n",
        "\n",
        "**Дополнительно:** написать функцию, которая будет выводить полученный словарь в виде таблицы."
      ]
    },
    {
      "cell_type": "code",
      "execution_count": 1,
      "id": "54d1f971",
      "metadata": {
        "id": "54d1f971",
        "outputId": "6dc97495-4df2-42cc-f968-b1d4fa8595db",
        "colab": {
          "base_uri": "https://localhost:8080/"
        }
      },
      "outputs": [
        {
          "output_type": "stream",
          "name": "stdout",
          "text": [
            "\n",
            "Введите данные пользователя:\n",
            "Имя: Петр\n",
            "Фамилия: Игорев\n",
            "Возраст: 18\n",
            "ID: 01245788\n",
            "\n",
            "Введите данные пользователя:\n",
            "Имя: игорь\n",
            "Фамилия: Петров\n",
            "Возраст: 35\n",
            "ID: 02587412\n",
            "\n",
            "Введите данные пользователя:\n",
            "Имя: иван\n",
            "Фамилия: иванов\n",
            "Возраст: 60\n",
            "ID: 36985236\n",
            "\n",
            "Введите данные пользователя:\n",
            "Имя: 25577\n",
            "Фамилия: 2222\n",
            "Возраст: 22\n",
            "ID: 01266589\n",
            "Ошибка: Имя должно содержать только буквы\n",
            "\n",
            "Введите данные пользователя:\n",
            "Имя: енга\n",
            "Фамилия: прож\n",
            "Возраст: мррм\n",
            "ID: 0125\n",
            "Ошибка: Возраст должен быть числом\n",
            "\n",
            "Введите данные пользователя:\n",
            "Имя: лоррпп\n",
            "Фамилия: жждл\n",
            "Возраст: 22\n",
            "ID: 012\n",
            "\n",
            "Введите данные пользователя:\n",
            "Имя: \n",
            "\n",
            "Список пользователей:\n",
            "ID        Имя                 Фамилия             Возраст   \n",
            "------------------------------------------------------------\n",
            "01245788  Петр                Игорев              18        \n",
            "02587412  Игорь               Петров              35        \n",
            "36985236  Иван                Иванов              60        \n",
            "00000012  Лоррпп              Жждл                22        \n"
          ]
        }
      ],
      "source": [
        "def validate_name(name):\n",
        "    if not name[0].isupper():\n",
        "        name = name[0].upper() + name[1:]\n",
        "    if not name.replace(' ', '').isalpha():\n",
        "        raise ValueError(\"Имя должно содержать только буквы\")\n",
        "    return name\n",
        "\n",
        "\n",
        "def validate_age(age):\n",
        "    try:\n",
        "        age = int(age)\n",
        "        if not (18 <= age <= 60):\n",
        "            raise ValueError(\"Возраст должен быть от 18 до 60 лет\")\n",
        "        return age\n",
        "    except ValueError:\n",
        "        raise ValueError(\"Возраст должен быть числом\")\n",
        "\n",
        "\n",
        "def validate_id(user_id, existing_ids):\n",
        "    try:\n",
        "        user_id = int(user_id)\n",
        "        if user_id in existing_ids:\n",
        "            raise ValueError(\"ID уже существует\")\n",
        "        return f\"{user_id:08d}\"\n",
        "    except ValueError:\n",
        "        raise ValueError(\"ID должен быть целым числом\")\n",
        "\n",
        "\n",
        "def print_users_table(users):\n",
        "    print(f\"{'ID':<10}{'Имя':<20}{'Фамилия':<20}{'Возраст':<10}\")\n",
        "    print(\"-\" * 60)\n",
        "    for user_id, data in users.items():\n",
        "        name, surname, age = data\n",
        "        print(f\"{user_id:<10}{name:<20}{surname:<20}{age:<10}\")\n",
        "\n",
        "\n",
        "def main():\n",
        "    users = {}\n",
        "    existing_ids = set()\n",
        "\n",
        "    while True:\n",
        "        print(\"\\nВведите данные пользователя:\")\n",
        "        name = input(\"Имя: \").strip()\n",
        "        if not name:\n",
        "            break\n",
        "\n",
        "        surname = input(\"Фамилия: \").strip()\n",
        "        if not surname:\n",
        "            break\n",
        "\n",
        "        age = input(\"Возраст: \").strip()\n",
        "        if not age:\n",
        "            break\n",
        "\n",
        "        user_id = input(\"ID: \").strip()\n",
        "        if not user_id:\n",
        "            break\n",
        "\n",
        "        try:\n",
        "            name = validate_name(name)\n",
        "            surname = validate_name(surname)\n",
        "            age = validate_age(age)\n",
        "            user_id = validate_id(user_id, existing_ids)\n",
        "\n",
        "            users[user_id] = (name, surname, age)\n",
        "            existing_ids.add(int(user_id))\n",
        "\n",
        "        except ValueError as e:\n",
        "            print(f\"Ошибка: {e}\")\n",
        "            continue\n",
        "\n",
        "    print(\"\\nСписок пользователей:\")\n",
        "    print_users_table(users)\n",
        "\n",
        "\n",
        "if __name__ == \"__main__\":\n",
        "    main()"
      ]
    }
  ],
  "metadata": {
    "kernelspec": {
      "display_name": ".venv (3.11.12)",
      "language": "python",
      "name": "python3"
    },
    "language_info": {
      "name": "python",
      "version": "3.11.12"
    },
    "colab": {
      "provenance": []
    }
  },
  "nbformat": 4,
  "nbformat_minor": 5
}